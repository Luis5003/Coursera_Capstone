{
 "cells": [
  {
   "cell_type": "markdown",
   "metadata": {},
   "source": [
    "# Moving from Toronto to New York City"
   ]
  },
  {
   "cell_type": "markdown",
   "metadata": {},
   "source": [
    "## Table of contents\n",
    "* [Introduction: Business Problem](#introduction)\n",
    "* [Data](#data)\n",
    "* [Methodology](#methodology)\n",
    "* [Analysis](#analysis)\n",
    "* [Results and Discussion](#results)\n",
    "* [Conclusion](#conclusion)"
   ]
  },
  {
   "cell_type": "markdown",
   "metadata": {},
   "source": [
    "## Introduction: Business Problem <a name=\"introduction\"></a>"
   ]
  },
  {
   "cell_type": "markdown",
   "metadata": {},
   "source": [
    "In this project we will try to solve a real world problem. Imagine that you live in Toronto and for work reasons you have to move to Manhattan, New York, but you actually love your neighborhood. Therefore, you would really like to find one in Manhattan with similar characteristics: parks, cafes, restaurants, etc.\n",
    "\n",
    "In this project, we will model this problem for any neighborhood in Toronto. To do this, we will first obtain a list of neighborhoods in Toronto, choose the one we want to compare with those in Manhattan, and then compare it with them.\n",
    "\n",
    "The objective is to find the group of districts in Manhattan that best suits the characteristics of the one we selected in Toronto. For this we will use the k-means clustering technique.\n",
    "\n",
    "In this way, we will have more than one compatible district in New York City with the initial one in Toronto, which is even good for our research because there are other factors to make a decision like this that we have not taken into account as where is the new office or the children's school."
   ]
  },
  {
   "cell_type": "markdown",
   "metadata": {},
   "source": [
    "## Data <a name=\"data\"></a>"
   ]
  },
  {
   "cell_type": "markdown",
   "metadata": {},
   "source": [
    "Based on definition of our problem, we will essentially need:\n",
    "- A dataset containing the list of the Toronto's neighborhoods: https://en.wikipedia.org/wiki/List_of_postal_codes_of_Canada:_M . We will use this dataset to explore the Toronto's neighborhoods and to choose the one where we currently live. To do it, we'll transforom this data into a pandas dataframe.\n",
    "    We will also need the coordinates of each neighborhood to represent them on a map and make our study more visual and to do this we will use the following dataset: https://cocl.us/Geospatial_data\n",
    "\n",
    "\n",
    "- A dataset containing the list of the New York City's neighborhoods and its coordinates: https://geo.nyu.edu/catalog/nyu_2451_34572. We will have to extract the Manhattan's neighborhoods from this dataset.\n",
    "\n",
    "\n",
    "- Data about what we are more likely to find around a given area: restaurants, parks, italian food, etc. To get that information we will use **Foursquare API**. \n",
    "\n",
    "Finally, we will use the k-means clustering technique to find the most suitables Manhattan's neighborhoods clustering all of them into 5 groups."
   ]
  },
  {
   "cell_type": "markdown",
   "metadata": {},
   "source": [
    "## Methodology <a name=\"methodology\"></a>"
   ]
  },
  {
   "cell_type": "markdown",
   "metadata": {},
   "source": [
    "## Analysis <a name=\"analysis\"></a>"
   ]
  },
  {
   "cell_type": "markdown",
   "metadata": {},
   "source": [
    "## Results and Discussion <a name=\"results\"></a>"
   ]
  },
  {
   "cell_type": "markdown",
   "metadata": {},
   "source": [
    "## Conclusion <a name=\"conclusion\"></a>"
   ]
  }
 ],
 "metadata": {
  "kernelspec": {
   "display_name": "Python 3",
   "language": "python",
   "name": "python3"
  },
  "language_info": {
   "codemirror_mode": {
    "name": "ipython",
    "version": 3
   },
   "file_extension": ".py",
   "mimetype": "text/x-python",
   "name": "python",
   "nbconvert_exporter": "python",
   "pygments_lexer": "ipython3",
   "version": "3.7.1"
  }
 },
 "nbformat": 4,
 "nbformat_minor": 2
}
